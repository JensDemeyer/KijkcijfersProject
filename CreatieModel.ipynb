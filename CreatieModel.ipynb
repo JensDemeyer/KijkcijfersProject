{
 "cells": [
  {
   "cell_type": "markdown",
   "id": "f97b5d37",
   "metadata": {},
   "source": [
    "# Kijkcijfers Project\n",
    "Naam: Jens Demeyer\n",
    "Studentennummer: 202398958 Vak: Machine Learning\n",
    "Datum: [Datum van indienen]"
   ]
  },
  {
   "cell_type": "markdown",
   "id": "f00faa20",
   "metadata": {},
   "source": [
    "## Deel 1: Scrapen van data"
   ]
  },
  {
   "cell_type": "markdown",
   "id": "d9dc1139",
   "metadata": {},
   "source": [
    "curl request om te testen of api werkt en om te kijken in welk formaat de json staat"
   ]
  },
  {
   "cell_type": "code",
   "execution_count": 1,
   "id": "773a86f1",
   "metadata": {},
   "outputs": [
    {
     "name": "stdout",
     "output_type": "stream",
     "text": [
      "data: {'@context': '/api/contexts/CimTvPublicResultsDailyView', '@id': '/api/cim_tv_public_results_daily_views', '@type': 'hydra:Collection', 'hydra:member': [{'@id': '/api/cim_tv_public_results_daily_views/44150', '@type': 'CimTvPublicResultsDailyView', 'id': 44150, 'reportType': 'north', 'dateImport': '2018-01-29T00:00:00.000000', 'dateResult': '2018-01-27T00:00:00.000000', 'ranking': '1', 'description': 'HET 7 UUR-JOURNAAL', 'category': None, 'channel': 'EEN', 'dateDiff': '2018-01-27T00:00:00.000000', 'startTime': '19:00:04', 'rLength': '00:31:57', 'ratePerc': None, 'rateInK': '803.889', 'shr': None, 'rateInKAll': None, 'live': 0}, {'@id': '/api/cim_tv_public_results_daily_views/44151', '@type': 'CimTvPublicResultsDailyView', 'id': 44151, 'reportType': 'north', 'dateImport': '2018-01-29T00:00:00.000000', 'dateResult': '2018-01-27T00:00:00.000000', 'ranking': '2', 'description': 'FC DE KAMPIOENEN', 'category': None, 'channel': 'EEN', 'dateDiff': '2018-01-27T00:00:00.000000', 'startTime': '20:38:41', 'rLength': '00:33:54', 'ratePerc': None, 'rateInK': '664.212', 'shr': None, 'rateInKAll': None, 'live': 0}, {'@id': '/api/cim_tv_public_results_daily_views/44152', '@type': 'CimTvPublicResultsDailyView', 'id': 44152, 'reportType': 'north', 'dateImport': '2018-01-29T00:00:00.000000', 'dateResult': '2018-01-27T00:00:00.000000', 'ranking': '3', 'description': 'HET COLLECTIEF GEHEUGEN', 'category': None, 'channel': 'EEN', 'dateDiff': '2018-01-27T00:00:00.000000', 'startTime': '21:12:46', 'rLength': '00:44:45', 'ratePerc': None, 'rateInK': '598.597', 'shr': None, 'rateInKAll': None, 'live': 0}, {'@id': '/api/cim_tv_public_results_daily_views/44153', '@type': 'CimTvPublicResultsDailyView', 'id': 44153, 'reportType': 'north', 'dateImport': '2018-01-29T00:00:00.000000', 'dateResult': '2018-01-27T00:00:00.000000', 'ranking': '4', 'description': \"BRITAIN'S BUSIEST AIRPORT HEATHROW\", 'category': None, 'channel': 'EEN', 'dateDiff': '2018-01-27T00:00:00.000000', 'startTime': '20:12:44', 'rLength': '00:22:53', 'ratePerc': None, 'rateInK': '563.503', 'shr': None, 'rateInKAll': None, 'live': 0}, {'@id': '/api/cim_tv_public_results_daily_views/44154', '@type': 'CimTvPublicResultsDailyView', 'id': 44154, 'reportType': 'north', 'dateImport': '2018-01-29T00:00:00.000000', 'dateResult': '2018-01-27T00:00:00.000000', 'ranking': '5', 'description': 'IEDEREEN BEROEMD', 'category': None, 'channel': 'EEN', 'dateDiff': '2018-01-27T00:00:00.000000', 'startTime': '19:37:36', 'rLength': '00:29:14', 'ratePerc': None, 'rateInK': '559.580', 'shr': None, 'rateInKAll': None, 'live': 0}, {'@id': '/api/cim_tv_public_results_daily_views/44155', '@type': 'CimTvPublicResultsDailyView', 'id': 44155, 'reportType': 'north', 'dateImport': '2018-01-29T00:00:00.000000', 'dateResult': '2018-01-27T00:00:00.000000', 'ranking': '6', 'description': 'NIEUWS 19U VTM', 'category': None, 'channel': 'VTM', 'dateDiff': '2018-01-27T00:00:00.000000', 'startTime': '18:59:42', 'rLength': '00:41:17', 'ratePerc': None, 'rateInK': '542.966', 'shr': None, 'rateInKAll': None, 'live': 0}, {'@id': '/api/cim_tv_public_results_daily_views/44156', '@type': 'CimTvPublicResultsDailyView', 'id': 44156, 'reportType': 'north', 'dateImport': '2018-01-29T00:00:00.000000', 'dateResult': '2018-01-27T00:00:00.000000', 'ranking': '7', 'description': 'COMEDY TOPPERS', 'category': None, 'channel': 'VTM', 'dateDiff': '2018-01-27T00:00:00.000000', 'startTime': '19:52:04', 'rLength': '00:24:14', 'ratePerc': None, 'rateInK': '522.180', 'shr': None, 'rateInKAll': None, 'live': 0}, {'@id': '/api/cim_tv_public_results_daily_views/44157', '@type': 'CimTvPublicResultsDailyView', 'id': 44157, 'reportType': 'north', 'dateImport': '2018-01-29T00:00:00.000000', 'dateResult': '2018-01-27T00:00:00.000000', 'ranking': '8', 'description': 'HET 1 UUR-JOURNAAL', 'category': None, 'channel': 'EEN', 'dateDiff': '2018-01-27T00:00:00.000000', 'startTime': '13:00:05', 'rLength': '00:26:35', 'ratePerc': None, 'rateInK': '430.955', 'shr': None, 'rateInKAll': None, 'live': 0}, {'@id': '/api/cim_tv_public_results_daily_views/44158', '@type': 'CimTvPublicResultsDailyView', 'id': 44158, 'reportType': 'north', 'dateImport': '2018-01-29T00:00:00.000000', 'dateResult': '2018-01-27T00:00:00.000000', 'ranking': '9', 'description': 'PENGUIN CITY, SOUTH GEORGIA', 'category': None, 'channel': 'EEN', 'dateDiff': '2018-01-27T00:00:00.000000', 'startTime': '18:12:02', 'rLength': '00:44:48', 'ratePerc': None, 'rateInK': '372.021', 'shr': None, 'rateInKAll': None, 'live': 0}, {'@id': '/api/cim_tv_public_results_daily_views/44159', '@type': 'CimTvPublicResultsDailyView', 'id': 44159, 'reportType': 'north', 'dateImport': '2018-01-29T00:00:00.000000', 'dateResult': '2018-01-27T00:00:00.000000', 'ranking': '10', 'description': 'WITSE', 'category': None, 'channel': 'EEN', 'dateDiff': '2018-01-27T00:00:00.000000', 'startTime': '21:59:35', 'rLength': '00:49:18', 'ratePerc': None, 'rateInK': '363.415', 'shr': None, 'rateInKAll': None, 'live': 0}, {'@id': '/api/cim_tv_public_results_daily_views/44160', '@type': 'CimTvPublicResultsDailyView', 'id': 44160, 'reportType': 'north', 'dateImport': '2018-01-29T00:00:00.000000', 'dateResult': '2018-01-27T00:00:00.000000', 'ranking': '11', 'description': 'SPORTS LATE NIGHT', 'category': None, 'channel': 'VIER', 'dateDiff': '2018-01-27T00:00:00.000000', 'startTime': '22:56:57', 'rLength': '00:19:43', 'ratePerc': None, 'rateInK': '336.671', 'shr': None, 'rateInKAll': None, 'live': 0}, {'@id': '/api/cim_tv_public_results_daily_views/44161', '@type': 'CimTvPublicResultsDailyView', 'id': 44161, 'reportType': 'north', 'dateImport': '2018-01-29T00:00:00.000000', 'dateResult': '2018-01-27T00:00:00.000000', 'ranking': '12', 'description': 'ANNIE', 'category': None, 'channel': 'VTM', 'dateDiff': '2018-01-27T00:00:00.000000', 'startTime': '20:30:02', 'rLength': '01:47:15', 'ratePerc': None, 'rateInK': '307.723', 'shr': None, 'rateInKAll': None, 'live': 0}, {'@id': '/api/cim_tv_public_results_daily_views/44162', '@type': 'CimTvPublicResultsDailyView', 'id': 44162, 'reportType': 'north', 'dateImport': '2018-01-29T00:00:00.000000', 'dateResult': '2018-01-27T00:00:00.000000', 'ranking': '13', 'description': 'HET JOURNAAL LAAT', 'category': None, 'channel': 'EEN', 'dateDiff': '2018-01-27T00:00:00.000000', 'startTime': '22:50:00', 'rLength': '00:16:00', 'ratePerc': None, 'rateInK': '296.774', 'shr': None, 'rateInKAll': None, 'live': 0}, {'@id': '/api/cim_tv_public_results_daily_views/44163', '@type': 'CimTvPublicResultsDailyView', 'id': 44163, 'reportType': 'north', 'dateImport': '2018-01-29T00:00:00.000000', 'dateResult': '2018-01-27T00:00:00.000000', 'ranking': '14', 'description': 'NIEUWS 13U VTM', 'category': None, 'channel': 'VTM', 'dateDiff': '2018-01-27T00:00:00.000000', 'startTime': '12:59:50', 'rLength': '00:25:32', 'ratePerc': None, 'rateInK': '222.344', 'shr': None, 'rateInKAll': None, 'live': 0}, {'@id': '/api/cim_tv_public_results_daily_views/44164', '@type': 'CimTvPublicResultsDailyView', 'id': 44164, 'reportType': 'north', 'dateImport': '2018-01-29T00:00:00.000000', 'dateResult': '2018-01-27T00:00:00.000000', 'ranking': '15', 'description': 'BEFORE WE DIE', 'category': None, 'channel': 'CANVAS', 'dateDiff': '2018-01-27T00:00:00.000000', 'startTime': '20:40:47', 'rLength': '00:58:24', 'ratePerc': None, 'rateInK': '201.907', 'shr': None, 'rateInKAll': None, 'live': 0}, {'@id': '/api/cim_tv_public_results_daily_views/44165', '@type': 'CimTvPublicResultsDailyView', 'id': 44165, 'reportType': 'north', 'dateImport': '2018-01-29T00:00:00.000000', 'dateResult': '2018-01-27T00:00:00.000000', 'ranking': '16', 'description': 'MIDSOMER MURDERS', 'category': None, 'channel': 'EEN', 'dateDiff': '2018-01-27T00:00:00.000000', 'startTime': '14:05:07', 'rLength': '01:28:22', 'ratePerc': None, 'rateInK': '199.735', 'shr': None, 'rateInKAll': None, 'live': 0}, {'@id': '/api/cim_tv_public_results_daily_views/44166', '@type': 'CimTvPublicResultsDailyView', 'id': 44166, 'reportType': 'north', 'dateImport': '2018-01-29T00:00:00.000000', 'dateResult': '2018-01-27T00:00:00.000000', 'ranking': '17', 'description': 'VILLA POLITICA', 'category': None, 'channel': 'EEN', 'dateDiff': '2018-01-27T00:00:00.000000', 'startTime': '13:33:07', 'rLength': '00:30:42', 'ratePerc': None, 'rateInK': '197.040', 'shr': None, 'rateInKAll': None, 'live': 0}, {'@id': '/api/cim_tv_public_results_daily_views/44167', '@type': 'CimTvPublicResultsDailyView', 'id': 44167, 'reportType': 'north', 'dateImport': '2018-01-29T00:00:00.000000', 'dateResult': '2018-01-27T00:00:00.000000', 'ranking': '18', 'description': 'SHREK FOREVER AFTER', 'category': None, 'channel': 'VTM', 'dateDiff': '2018-01-27T00:00:00.000000', 'startTime': '17:10:23', 'rLength': '01:19:13', 'ratePerc': None, 'rateInK': '175.967', 'shr': None, 'rateInKAll': None, 'live': 0}, {'@id': '/api/cim_tv_public_results_daily_views/44168', '@type': 'CimTvPublicResultsDailyView', 'id': 44168, 'reportType': 'north', 'dateImport': '2018-01-29T00:00:00.000000', 'dateResult': '2018-01-27T00:00:00.000000', 'ranking': '19', 'description': \"PIRATES OF THE CARIBBEAN, AT WORLD'S END\", 'category': None, 'channel': 'VIER', 'dateDiff': '2018-01-27T00:00:00.000000', 'startTime': '19:45:10', 'rLength': '02:35:04', 'ratePerc': None, 'rateInK': '168.385', 'shr': None, 'rateInKAll': None, 'live': 0}, {'@id': '/api/cim_tv_public_results_daily_views/44169', '@type': 'CimTvPublicResultsDailyView', 'id': 44169, 'reportType': 'north', 'dateImport': '2018-01-29T00:00:00.000000', 'dateResult': '2018-01-27T00:00:00.000000', 'ranking': '20', 'description': 'VRANCKX', 'category': None, 'channel': 'CANVAS', 'dateDiff': '2018-01-27T00:00:00.000000', 'startTime': '20:11:59', 'rLength': '00:23:22', 'ratePerc': None, 'rateInK': '159.304', 'shr': None, 'rateInKAll': None, 'live': 0}], 'hydra:totalItems': 20, 'hydra:view': {'@id': '/api/cim_tv_public_results_daily_views?dateDiff=20180127&reportType=north', '@type': 'hydra:PartialCollectionView'}, 'hydra:search': {'@type': 'hydra:IriTemplate', 'hydra:template': '/api/cim_tv_public_results_daily_views{?dateDiff,dateDiff[],reportType,reportType[]}', 'hydra:variableRepresentation': 'BasicRepresentation', 'hydra:mapping': [{'@type': 'IriTemplateMapping', 'variable': 'dateDiff', 'property': 'dateDiff', 'required': False}, {'@type': 'IriTemplateMapping', 'variable': 'dateDiff[]', 'property': 'dateDiff', 'required': False}, {'@type': 'IriTemplateMapping', 'variable': 'reportType', 'property': 'reportType', 'required': False}, {'@type': 'IriTemplateMapping', 'variable': 'reportType[]', 'property': 'reportType', 'required': False}]}}\n"
     ]
    }
   ],
   "source": [
    "import requests\n",
    "from datetime import datetime\n",
    "import json\n",
    "\n",
    "# Stap 1: Bouw de API URL met huidige datum\n",
    "vandaag = 20180127\n",
    "api_url = f\"https://api.cim.be/api/cim_tv_public_results_daily_views?dateDiff={vandaag}&reportType=north\"\n",
    "\n",
    "# Stap 2: Haal data op\n",
    "try:\n",
    "    response = requests.get(api_url)\n",
    "    \n",
    "    if response.status_code == 200:\n",
    "        # Stap 3: Parse de JSON data\n",
    "        data = response.json()\n",
    "        print(\"data:\", data)\n",
    "        \n",
    "    else:\n",
    "        print(f\"Fout bij het ophalen van de gegevens: {response.status_code}\")\n",
    "except requests.exceptions.RequestException as e:\n",
    "    print(f\"Fout bij het ophalen van de gegevens: {e}\")\n",
    "\n",
    "    response_json = json.dumps(data, indent=4)\n",
    "\n",
    "with open('data.json', 'w') as file:\n",
    "    json.dump(data, file, indent=4)"
   ]
  },
  {
   "cell_type": "code",
   "execution_count": 25,
   "id": "611c85ad",
   "metadata": {},
   "outputs": [
    {
     "name": "stdout",
     "output_type": "stream",
     "text": [
      "Data opgeslagen in kijkcijfers.csv (20 records)\n"
     ]
    }
   ],
   "source": [
    "import requests\n",
    "import csv\n",
    "from datetime import datetime\n",
    "\n",
    "def get_viewership_data(date_yyyymmdd):\n",
    "    api_url = f\"https://api.cim.be/api/cim_tv_public_results_daily_views?dateDiff={date_yyyymmdd}&reportType=north\"\n",
    "    \n",
    "    try:\n",
    "        response = requests.get(api_url)\n",
    "        if response.status_code == 200:\n",
    "            data = response.json()\n",
    "            return data.get('hydra:member', [])\n",
    "        else:\n",
    "            print(f\"Fout bij ophalen data voor {date_yyyymmdd}: HTTP {response.status_code}\")\n",
    "            return []\n",
    "    except requests.exceptions.RequestException as e:\n",
    "        print(f\"Fout bij ophalen data voor {date_yyyymmdd}: {e}\")\n",
    "        return []\n",
    "\n",
    "def save_to_csv(data, filename='kijkcijfers.csv'):\n",
    "    if not data:\n",
    "        print(\"Geen data om op te slaan\")\n",
    "        return\n",
    "    \n",
    "    # Selecteer alleen de gewenste velden\n",
    "    selected_fields = ['dateDiff', 'ranking', 'description', 'channel', 'startTime', 'rLength', 'rateInK']\n",
    "    \n",
    "    with open(filename, 'w', newline='', encoding='utf-8') as csvfile:\n",
    "        writer = csv.DictWriter(csvfile, fieldnames=selected_fields)\n",
    "        writer.writeheader()\n",
    "        \n",
    "        for item in data:\n",
    "            # Maak een nieuw dict met alleen de gewenste velden\n",
    "            row = {field: item.get(field) for field in selected_fields}\n",
    "            \n",
    "            # Formatteer dateDiff naar YYYY-MM-DD\n",
    "            if 'dateDiff' in row and row['dateDiff']:\n",
    "                try:\n",
    "                    dt = datetime.strptime(row['dateDiff'], '%Y-%m-%dT%H:%M:%S.%fZ')\n",
    "                    row['dateDiff'] = dt.strftime('%Y-%m-%d')\n",
    "                except ValueError:\n",
    "                    pass\n",
    "            \n",
    "            writer.writerow(row)\n",
    "    \n",
    "    print(f\"Data opgeslagen in {filename} ({len(data)} records)\")\n",
    "\n",
    "date_str = '20250518'  # Format: YYYYMMDD\n",
    "data = get_viewership_data(date_str)\n",
    "\n",
    "if data:\n",
    "    save_to_csv(data)\n",
    "else:\n",
    "    print(\"Geen data gevonden voor deze datum\")"
   ]
  },
  {
   "cell_type": "code",
   "execution_count": 6,
   "id": "9de0a430",
   "metadata": {},
   "outputs": [
    {
     "name": "stderr",
     "output_type": "stream",
     "text": [
      "Data scrapen: 100%|██████████| 2028/2028 [29:59<00:00,  1.13dag/s]  "
     ]
    },
    {
     "name": "stdout",
     "output_type": "stream",
     "text": [
      "\n",
      "Data succesvol toegevoegd aan kijkcijfers.csv\n"
     ]
    },
    {
     "name": "stderr",
     "output_type": "stream",
     "text": [
      "\n"
     ]
    }
   ],
   "source": [
    "import requests\n",
    "import csv\n",
    "from datetime import datetime, timedelta\n",
    "import time\n",
    "from tqdm import tqdm\n",
    "import os\n",
    "\n",
    "def get_viewership_data(date_yyyymmdd, max_retries=3):\n",
    "    \"\"\"Haal kijkcijferdata op voor specifieke datum\"\"\"\n",
    "    api_url = f\"https://api.cim.be/api/cim_tv_public_results_daily_views?dateDiff={date_yyyymmdd}&reportType=north\"\n",
    "    \n",
    "    for attempt in range(max_retries):\n",
    "        try:\n",
    "            response = requests.get(api_url, timeout=30)\n",
    "            if response.status_code == 200:\n",
    "                return response.json().get('hydra:member', [])\n",
    "            return []\n",
    "        except Exception as e:\n",
    "            if attempt == max_retries - 1:\n",
    "                print(f\"\\nFout voor {date_yyyymmdd}: {str(e)[:100]}...\")\n",
    "            time.sleep(2 ** attempt)\n",
    "    return []\n",
    "\n",
    "def append_to_csv(data, filename='kijkcijfers.csv'):\n",
    "    \"\"\"Voeg data toe aan CSV zonder duplicate checking\"\"\"\n",
    "    if not data:\n",
    "        return\n",
    "    \n",
    "    fields = ['dateDiff', 'ranking', 'description', 'channel', 'startTime', 'rLength', 'rateInK']\n",
    "    file_exists = os.path.isfile(filename)\n",
    "    \n",
    "    with open(filename, 'a', newline='', encoding='utf-8') as csvfile:\n",
    "        writer = csv.DictWriter(csvfile, fieldnames=fields)\n",
    "        if not file_exists:\n",
    "            writer.writeheader()\n",
    "        \n",
    "        for item in data:\n",
    "            row = {field: item.get(field) for field in fields}\n",
    "            if 'dateDiff' in row and row['dateDiff']:\n",
    "                try:\n",
    "                    dt = datetime.strptime(row['dateDiff'], '%Y-%m-%dT%H:%M:%S.%fZ')\n",
    "                    row['dateDiff'] = dt.strftime('%Y-%m-%d')\n",
    "                except ValueError:\n",
    "                    pass\n",
    "            writer.writerow(row)\n",
    "\n",
    "def scrape_with_progress(start_date, end_date):\n",
    "    \"\"\"Scrape data voor een periode met voortgangsbalk\"\"\"\n",
    "    date_range = [start_date + timedelta(days=x) for x in range((end_date - start_date).days + 1)]\n",
    "    \n",
    "    with tqdm(total=len(date_range), desc=\"Data scrapen\", unit=\"dag\") as pbar:\n",
    "        for date in date_range:\n",
    "            date_str = date.strftime('%Y%m%d')\n",
    "            data = get_viewership_data(date_str)\n",
    "            append_to_csv(data)\n",
    "            pbar.update(1)\n",
    "            time.sleep(0.5)  # Mild rate limiting\n",
    "\n",
    "    print(f\"\\nData succesvol toegevoegd aan kijkcijfers.csv\")\n",
    "\n",
    "# Voorbeeldgebruik:\n",
    "if __name__ == \"__main__\":\n",
    "    scrape_with_progress(\n",
    "        start_date=datetime(2019, 11, 1),\n",
    "        end_date=datetime(2025, 5, 20)\n",
    "    )"
   ]
  }
 ],
 "metadata": {
  "kernelspec": {
   "display_name": ".venv",
   "language": "python",
   "name": "python3"
  },
  "language_info": {
   "codemirror_mode": {
    "name": "ipython",
    "version": 3
   },
   "file_extension": ".py",
   "mimetype": "text/x-python",
   "name": "python",
   "nbconvert_exporter": "python",
   "pygments_lexer": "ipython3",
   "version": "3.13.0rc2"
  }
 },
 "nbformat": 4,
 "nbformat_minor": 5
}
